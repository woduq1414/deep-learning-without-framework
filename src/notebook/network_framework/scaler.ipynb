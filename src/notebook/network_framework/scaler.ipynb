{
 "cells": [
  {
   "cell_type": "code",
   "execution_count": null,
   "metadata": {},
   "outputs": [],
   "source": [
    "import numpy as np"
   ]
  },
  {
   "cell_type": "code",
   "execution_count": 1,
   "metadata": {},
   "outputs": [],
   "source": [
    "class StandardScaler:\n",
    "    def __init__(self):\n",
    "        self.std_array = None\n",
    "        self.mean_array = None\n",
    "        \n",
    "    def fit(self, data):\n",
    "        \n",
    "        self.data = data\n",
    "        \n",
    "        self.std_array = np.std(data, axis=0)\n",
    "        self.mean_array = np.mean(data, axis = 0)\n",
    "        \n",
    "    def transform(self, data):\n",
    "        \n",
    "        return (data- self.mean_array) / self.std_array\n",
    "    \n",
    "    \n",
    "    def fit_transform(self, data):\n",
    "        \n",
    "        self.fit(data)\n",
    "        return self.transform(data)"
   ]
  },
  {
   "cell_type": "code",
   "execution_count": null,
   "metadata": {},
   "outputs": [],
   "source": []
  }
 ],
 "metadata": {
  "kernelspec": {
   "display_name": "Python 3",
   "language": "python",
   "name": "python3"
  },
  "language_info": {
   "codemirror_mode": {
    "name": "ipython",
    "version": 3
   },
   "file_extension": ".py",
   "mimetype": "text/x-python",
   "name": "python",
   "nbconvert_exporter": "python",
   "pygments_lexer": "ipython3",
   "version": "3.7.3"
  }
 },
 "nbformat": 4,
 "nbformat_minor": 2
}
