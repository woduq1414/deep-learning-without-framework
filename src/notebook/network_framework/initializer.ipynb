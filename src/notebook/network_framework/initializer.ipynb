{
 "cells": [
  {
   "cell_type": "code",
   "execution_count": null,
   "metadata": {},
   "outputs": [],
   "source": [
    "import numpy as np\n",
    "import import_ipynb\n",
    "from functions import *\n",
    "from gradient import *"
   ]
  },
  {
   "cell_type": "code",
   "execution_count": null,
   "metadata": {},
   "outputs": [],
   "source": [
    "class InitializerType:\n",
    "    \n",
    "    pass\n",
    "\n",
    "class Std(InitializerType):\n",
    "    \n",
    "    def __init__(self, std):\n",
    "        self.std = std\n",
    "\n",
    "class He(InitializerType):\n",
    "    \n",
    "    pass\n",
    "\n",
    "class Xavier(InitializerType):\n",
    "    \n",
    "    pass\n",
    "\n",
    "\n",
    "\n"
   ]
  }
 ],
 "metadata": {
  "kernelspec": {
   "display_name": "Python 3",
   "language": "python",
   "name": "python3"
  },
  "language_info": {
   "codemirror_mode": {
    "name": "ipython",
    "version": 3
   },
   "file_extension": ".py",
   "mimetype": "text/x-python",
   "name": "python",
   "nbconvert_exporter": "python",
   "pygments_lexer": "ipython3",
   "version": "3.7.3"
  }
 },
 "nbformat": 4,
 "nbformat_minor": 2
}
