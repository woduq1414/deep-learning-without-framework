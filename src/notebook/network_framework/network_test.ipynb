{
 "cells": [
  {
   "cell_type": "code",
   "execution_count": 3,
   "metadata": {
    "pycharm": {
     "is_executing": false
    }
   },
   "outputs": [
    {
     "name": "stdout",
     "output_type": "stream",
     "text": [
      "importing Jupyter notebook from optimizer.ipynb\n",
      "importing Jupyter notebook from gradient.ipynb\n",
      "importing Jupyter notebook from functions.ipynb\n",
      "importing Jupyter notebook from layer.ipynb\n",
      "importing Jupyter notebook from initializer.ipynb\n",
      "importing Jupyter notebook from network.ipynb\n",
      "importing Jupyter notebook from scaler.ipynb\n",
      "importing Jupyter notebook from ../..\\dataset\\mnist.ipynb\n"
     ]
    }
   ],
   "source": [
    "import import_ipynb\n",
    "import optimizer as Optimizer\n",
    "import matplotlib.pyplot as plt\n",
    "import gradient as Gradient\n",
    "from functions import *\n",
    "import layer as Layer\n",
    "from network import MultiLayerNet\n",
    "\n",
    "import scaler as Scaler\n",
    "import  initializer as Initializer \n",
    " \n",
    "\n",
    "import sys\n",
    "sys.path.append(\"../../\")\n",
    "import import_ipynb\n",
    "from dataset.mnist import load_mnist\n",
    "\n",
    "import numpy as np\n",
    "from collections import OrderedDict"
   ]
  },
  {
   "cell_type": "code",
   "execution_count": 4,
   "metadata": {
    "pycharm": {
     "is_executing": false
    }
   },
   "outputs": [],
   "source": [
    "def make_sample_data_set():\n",
    "    \n",
    "    \"\"\"\n",
    "        x는 0~999999 정수이다.\n",
    "        정답은 x를 100000으로 나눴을 때의 몫이다.\n",
    "    \"\"\"\n",
    "    \n",
    "    x = np.random.randint(999999, size=(10000,1))\n",
    "    \n",
    "    t_data = x.flatten() // 100000\n",
    "    \n",
    "    \n",
    "    # t_data 원핫 인코딩 코드\n",
    "    num = np.unique(t_data, axis=0)\n",
    "    num = num.shape[0]\n",
    "    t = np.eye(num)[t_data] \n",
    "    \n",
    "    return x,t\n",
    "\n",
    "def make_sample_data_set_regression():\n",
    "    \n",
    "\n",
    "    x = np.random.randint(9, size=(300, 1))\n",
    "    y =np.dot(x, np.array([3]) )\n",
    "    t = np.reshape(y, (y.shape[0],1))\n",
    "\n",
    "    \n",
    "    return x,t\n",
    "\n",
    "def make_sample_data_set_regression2():\n",
    "    \n",
    "\n",
    "    x = np.random.randint(999999, size=(300, 2))\n",
    "    y =np.dot(x, np.array([3,-2]) ) + 7\n",
    "#     y =  y + (4 * np.random.random_sample((1,y.shape[0])) - 2).flatten()\n",
    "    t = np.reshape(y, (y.shape[0],1))\n",
    "\n",
    "    \n",
    "    return x,t"
   ]
  },
  {
   "cell_type": "markdown",
   "metadata": {},
   "source": [
    "### Regression"
   ]
  },
  {
   "cell_type": "code",
   "execution_count": 18,
   "metadata": {
    "pycharm": {
     "is_executing": false
    },
    "scrolled": true
   },
   "outputs": [
    {
     "name": "stdout",
     "output_type": "stream",
     "text": [
      "{'W0': array([[-0.01071318],\n",
      "       [ 0.00088048]]), 'b0': array([0.])}\n",
      "repeat 6 epoch\n",
      "epoch | loss\n",
      "epoch 1: 89522970.54707554\n",
      "epoch 2: 234954.80362073096\n",
      "epoch 3: 3.898453456364143\n",
      "epoch 4: 0.010666154873838412\n",
      "epoch 5: 9.059307938159004e-08\n",
      "epoch 6: 1.0220183218535741e-11\n",
      "===================\n",
      "epoch 6: 1.0220183218535741e-11\n",
      "target : [[1200  500]] result :  [[2606.99999433]]\n",
      "done!\n"
     ]
    }
   ],
   "source": [
    "x_data, t_data = make_sample_data_set_regression2()\n",
    "\n",
    "net = MultiLayerNet()\n",
    "net.add_layer(Layer.Dense(1, input_size = 2, activation=Layer.IdentityWithLoss(), initializer = Initializer.Xavier() ))\n",
    "# net.add_layer(Layer.Dense(5, input_size = 2, activation=Layer.Relu() ))\n",
    "# net.add_layer(Layer.Dense(1))\n",
    "\n",
    "x_train, t_train, x_test, t_test = shuffle_split_data(x_data, t_data, 0.2)\n",
    "\n",
    "print(net.params)\n",
    "\n",
    "scaler = Scaler.StandardScaler()\n",
    "x_train = scaler.fit_transform(x_train)\n",
    "x_test = scaler.transform(x_test)\n",
    "\n",
    "result = net.train(\n",
    "        x_train, t_train, x_test, t_test, batch_size = 100, iters_num = 15, print_epoch = 1,\n",
    "        optimizer = Optimizer.SGD()\n",
    ")\n",
    "\n",
    "\n",
    "\n",
    "\n",
    "\n",
    "predict_target = np.array([[1200, 500]])\n",
    "print(\"target :\" ,predict_target, \"result : \",  net.predict(scaler.transform(predict_target)))\n",
    "print(\"done!\")\n"
   ]
  },
  {
   "cell_type": "code",
   "execution_count": null,
   "metadata": {
    "pycharm": {
     "name": "#%%\n"
    }
   },
   "outputs": [],
   "source": [
    "# x = np.arange(len(result[\"train_loss_list\"]))\n",
    "print( result[\"train_loss_list\"][1])\n",
    "\n",
    "plt.plot(x, result[\"train_loss_list\"], label='loss',color=\"red\",  marker='o')\n",
    "plt.xlabel(\"i\")\n",
    "plt.ylabel(\"loss\")\n",
    "plt.ylim(0, 10000000)\n",
    "plt.legend(loc='upper right')\n",
    "plt.show()\n"
   ]
  },
  {
   "cell_type": "markdown",
   "metadata": {
    "pycharm": {
     "name": "#%% md\n"
    }
   },
   "source": [
    "### Classification"
   ]
  },
  {
   "cell_type": "code",
   "execution_count": 7,
   "metadata": {
    "pycharm": {
     "is_executing": true
    }
   },
   "outputs": [
    {
     "name": "stdout",
     "output_type": "stream",
     "text": [
      "(60000, 784) (60000, 10) (10000, 784) (10000, 10)\n",
      "repeat 5 epoch\n",
      "epoch | train_acc | test_acc\n",
      "epoch 1: 0.9635  |  0.9583\n",
      "epoch 2: 0.9733  |  0.9674\n",
      "epoch 3: 0.9823  |  0.9726\n",
      "epoch 4: 0.9838  |  0.9733\n",
      "===================\n",
      "epoch 4: 0.9868  |  0.9733\n",
      "done!\n"
     ]
    }
   ],
   "source": [
    "(x_train, t_train), (x_test, t_test) = load_mnist(normalize=True, one_hot_label=True)\n",
    "\n",
    "print(x_train.shape, t_train.shape, x_test.shape, t_test.shape)\n",
    "\n",
    "x_data = np.append(x_train, x_test, axis=0)\n",
    "t_data = np.append(t_train, t_test, axis=0)\n",
    "\n",
    "net = MultiLayerNet()\n",
    "net.add_layer(Layer.Dense(128, input_size = 784, activation = Layer.Relu(), ))\n",
    "net.add_layer(Layer.Dense(10,  activation = Layer.SoftmaxWithLoss() ))\n",
    "\n",
    "result = net.train(\n",
    "        x_train, t_train, x_test, t_test, batch_size = 300, iters_num = 1000, print_epoch = 1,\n",
    "        optimizer = Optimizer.Adam(lr=0.01) )\n",
    "\n",
    "print(\"done!\")"
   ]
  },
  {
   "cell_type": "code",
   "execution_count": 3,
   "metadata": {
    "pycharm": {
     "is_executing": true
    }
   },
   "outputs": [
    {
     "ename": "NameError",
     "evalue": "name 'Initializer' is not defined",
     "output_type": "error",
     "traceback": [
      "\u001b[1;31m---------------------------------------------------------------------------\u001b[0m",
      "\u001b[1;31mNameError\u001b[0m                                 Traceback (most recent call last)",
      "\u001b[1;32m<ipython-input-3-fc54d6b0146a>\u001b[0m in \u001b[0;36m<module>\u001b[1;34m\u001b[0m\n\u001b[0;32m     26\u001b[0m \u001b[1;33m\u001b[0m\u001b[0m\n\u001b[0;32m     27\u001b[0m     \u001b[1;32mfor\u001b[0m \u001b[0mlr\u001b[0m \u001b[1;32min\u001b[0m \u001b[0mlr_list\u001b[0m\u001b[1;33m:\u001b[0m\u001b[1;33m\u001b[0m\u001b[1;33m\u001b[0m\u001b[0m\n\u001b[1;32m---> 28\u001b[1;33m         \u001b[0mnet\u001b[0m \u001b[1;33m=\u001b[0m \u001b[0mcreate_net\u001b[0m\u001b[1;33m(\u001b[0m\u001b[1;33m)\u001b[0m\u001b[1;33m\u001b[0m\u001b[1;33m\u001b[0m\u001b[0m\n\u001b[0m\u001b[0;32m     29\u001b[0m \u001b[1;33m\u001b[0m\u001b[0m\n\u001b[0;32m     30\u001b[0m         \u001b[1;32mif\u001b[0m \u001b[0moptimizer\u001b[0m \u001b[1;33m==\u001b[0m \u001b[1;34m\"sgd\"\u001b[0m\u001b[1;33m:\u001b[0m\u001b[1;33m\u001b[0m\u001b[1;33m\u001b[0m\u001b[0m\n",
      "\u001b[1;32m<ipython-input-3-fc54d6b0146a>\u001b[0m in \u001b[0;36mcreate_net\u001b[1;34m()\u001b[0m\n\u001b[0;32m      9\u001b[0m \u001b[1;33m\u001b[0m\u001b[0m\n\u001b[0;32m     10\u001b[0m     \u001b[0mnet\u001b[0m \u001b[1;33m=\u001b[0m \u001b[0mMultiLayerNet\u001b[0m\u001b[1;33m(\u001b[0m\u001b[1;33m)\u001b[0m\u001b[1;33m\u001b[0m\u001b[1;33m\u001b[0m\u001b[0m\n\u001b[1;32m---> 11\u001b[1;33m     \u001b[0mnet\u001b[0m\u001b[1;33m.\u001b[0m\u001b[0madd_layer\u001b[0m\u001b[1;33m(\u001b[0m\u001b[0mLayer\u001b[0m\u001b[1;33m.\u001b[0m\u001b[0mDense\u001b[0m\u001b[1;33m(\u001b[0m\u001b[1;36m50\u001b[0m\u001b[1;33m,\u001b[0m \u001b[0minput_size\u001b[0m \u001b[1;33m=\u001b[0m \u001b[1;36m784\u001b[0m\u001b[1;33m,\u001b[0m \u001b[0mactivation\u001b[0m \u001b[1;33m=\u001b[0m \u001b[0mLayer\u001b[0m\u001b[1;33m.\u001b[0m\u001b[0mRelu\u001b[0m\u001b[1;33m(\u001b[0m\u001b[1;33m)\u001b[0m \u001b[1;33m)\u001b[0m\u001b[1;33m)\u001b[0m\u001b[1;33m\u001b[0m\u001b[1;33m\u001b[0m\u001b[0m\n\u001b[0m\u001b[0;32m     12\u001b[0m     \u001b[0mnet\u001b[0m\u001b[1;33m.\u001b[0m\u001b[0madd_layer\u001b[0m\u001b[1;33m(\u001b[0m\u001b[0mLayer\u001b[0m\u001b[1;33m.\u001b[0m\u001b[0mDense\u001b[0m\u001b[1;33m(\u001b[0m\u001b[1;36m10\u001b[0m\u001b[1;33m,\u001b[0m  \u001b[0mactivation\u001b[0m \u001b[1;33m=\u001b[0m \u001b[0mLayer\u001b[0m\u001b[1;33m.\u001b[0m\u001b[0mSoftmaxWithLoss\u001b[0m\u001b[1;33m(\u001b[0m\u001b[1;33m)\u001b[0m \u001b[1;33m)\u001b[0m\u001b[1;33m)\u001b[0m\u001b[1;33m\u001b[0m\u001b[1;33m\u001b[0m\u001b[0m\n\u001b[0;32m     13\u001b[0m \u001b[1;33m\u001b[0m\u001b[0m\n",
      "\u001b[1;32m~\\deep-learning-without-tensorflow\\src\\notebook\\network_framework\\network.ipynb\u001b[0m in \u001b[0;36madd_layer\u001b[1;34m(self, layer, **kwargs)\u001b[0m\n",
      "\u001b[1;31mNameError\u001b[0m: name 'Initializer' is not defined"
     ]
    }
   ],
   "source": [
    "(x_train, t_train), (x_test, t_test) = load_mnist(normalize=True, one_hot_label=True)\n",
    "\n",
    "\n",
    "x_data = np.append(x_train, x_test, axis=0)\n",
    "t_data = np.append(t_train, t_test, axis=0)\n",
    "\n",
    "\n",
    "def create_net():\n",
    "    \n",
    "    net = MultiLayerNet()\n",
    "    net.add_layer(Layer.Dense(50, input_size = 784, activation = Layer.Relu() ))\n",
    "    net.add_layer(Layer.Dense(10,  activation = Layer.SoftmaxWithLoss() ))\n",
    "    \n",
    "    return net\n",
    "\n",
    "\n",
    "result = {\n",
    "    \n",
    "}\n",
    "\n",
    "optimizer_list = [\"sgd\", \"momentum\", \"rmsprop\", \"adam\"]\n",
    "lr_list = [0.001, 0.01 , 0.05, 0.1, 1]\n",
    "\n",
    "for optimizer in optimizer_list:\n",
    "    result[optimizer] = {} \n",
    "    \n",
    "    for lr in lr_list:\n",
    "        net = create_net()\n",
    "        \n",
    "        if optimizer == \"sgd\":\n",
    "            opt = Optimizer.SGD(lr=lr)\n",
    "        elif optimizer == \"momentum\":\n",
    "            opt = Optimizer.Momentum(lr=lr)\n",
    "        elif optimizer == \"rmsprop\":\n",
    "            opt = Optimizer.RMSprop(lr=lr)\n",
    "        elif optimizer == \"adam\":\n",
    "            opt = Optimizer.Adam(lr=lr)\n",
    "        \n",
    "        print(optimizer, lr, \" : \")\n",
    "        \n",
    "        train_result = net.train(\n",
    "            x_train, t_train, x_test, t_test, batch_size = 300, iters_num = 3000, print_epoch = 1,\n",
    "            optimizer = opt\n",
    "        )\n",
    "        \n",
    "        result[optimizer][lr] = train_result\n",
    "\n",
    "        \n",
    "        \n",
    "\n",
    "print(\"done!\")"
   ]
  },
  {
   "cell_type": "code",
   "execution_count": null,
   "metadata": {
    "pycharm": {
     "name": "#%%\n"
    }
   },
   "outputs": [],
   "source": [
    "color_list = [\"red\", \"blue\", \"green\", \"yellow\", \"purple\"]\n",
    "\n",
    "marker_list = [\"o\", \"s\", \"^\", \"v\",\"x\" ]\n",
    "\n",
    "plt.figure(figsize=(11, 9))\n",
    "for j, optimizer in enumerate(optimizer_list):\n",
    "\n",
    "    plt.subplot(221 + j)\n",
    "\n",
    "    plt.xlabel(\"step\")\n",
    "    plt.ylabel(\"loss\")\n",
    "    plt.ylim(0, 3)\n",
    "    plt.title(optimizer)\n",
    "\n",
    "\n",
    "\n",
    "\n",
    "    for i, (lr, train_result) in enumerate(result[optimizer].items()):\n",
    "        x = np.arange(len(train_result[\"train_loss_list\"]))\n",
    "#         print(len(x))\n",
    "        plt.plot(x, train_result[\"train_loss_list\"], label=str(lr),color = color_list[i],  marker=None)\n",
    "\n",
    "        plt.legend(loc='upper right')\n",
    "\n",
    "plt.tight_layout()\n",
    "plt.show()\n"
   ]
  },
  {
   "cell_type": "code",
   "execution_count": null,
   "metadata": {
    "pycharm": {
     "name": "#%%\n"
    }
   },
   "outputs": [],
   "source": [
    "import pickle\n",
    " \n",
    "## Save pickle\n",
    "with open(\"train_data.pickle\",\"wb\") as fw:\n",
    "    pickle.dump(result, fw)\n"
   ]
  },
  {
   "cell_type": "code",
   "execution_count": null,
   "metadata": {
    "pycharm": {
     "name": "#%%\n"
    }
   },
   "outputs": [],
   "source": [
    "with open(\"train_data.pickle\",\"rb\") as fr:\n",
    "    result = pickle.load(fr)\n",
    "\n",
    "result"
   ]
  },
  {
   "cell_type": "code",
   "execution_count": null,
   "metadata": {
    "pycharm": {
     "name": "#%%\n"
    }
   },
   "outputs": [],
   "source": [
    " result[\"sgd\"][1].keys()"
   ]
  },
  {
   "cell_type": "code",
   "execution_count": 14,
   "metadata": {
    "pycharm": {
     "name": "#%%\n"
    }
   },
   "outputs": [],
   "source": [
    "import pickle\n",
    " \n",
    "## Save pickle\n",
    "with open(\"train_data.pickle\",\"wb\") as fw:\n",
    "    pickle.dump(result, fw)\n"
   ]
  },
  {
   "cell_type": "code",
   "execution_count": 4,
   "metadata": {},
   "outputs": [
    {
     "ename": "NameError",
     "evalue": "name 'pickle' is not defined",
     "output_type": "error",
     "traceback": [
      "\u001b[1;31m---------------------------------------------------------------------------\u001b[0m",
      "\u001b[1;31mNameError\u001b[0m                                 Traceback (most recent call last)",
      "\u001b[1;32m<ipython-input-4-15dd819863f1>\u001b[0m in \u001b[0;36m<module>\u001b[1;34m\u001b[0m\n\u001b[0;32m      1\u001b[0m \u001b[1;32mwith\u001b[0m \u001b[0mopen\u001b[0m\u001b[1;33m(\u001b[0m\u001b[1;34m\"train_data.pickle\"\u001b[0m\u001b[1;33m,\u001b[0m\u001b[1;34m\"rb\"\u001b[0m\u001b[1;33m)\u001b[0m \u001b[1;32mas\u001b[0m \u001b[0mfr\u001b[0m\u001b[1;33m:\u001b[0m\u001b[1;33m\u001b[0m\u001b[1;33m\u001b[0m\u001b[0m\n\u001b[1;32m----> 2\u001b[1;33m     \u001b[0mresult\u001b[0m \u001b[1;33m=\u001b[0m \u001b[0mpickle\u001b[0m\u001b[1;33m.\u001b[0m\u001b[0mload\u001b[0m\u001b[1;33m(\u001b[0m\u001b[0mfr\u001b[0m\u001b[1;33m)\u001b[0m\u001b[1;33m\u001b[0m\u001b[1;33m\u001b[0m\u001b[0m\n\u001b[0m\u001b[0;32m      3\u001b[0m \u001b[1;33m\u001b[0m\u001b[0m\n\u001b[0;32m      4\u001b[0m \u001b[0mresult\u001b[0m\u001b[1;33m\u001b[0m\u001b[1;33m\u001b[0m\u001b[0m\n",
      "\u001b[1;31mNameError\u001b[0m: name 'pickle' is not defined"
     ]
    }
   ],
   "source": [
    "with open(\"train_data.pickle\",\"rb\") as fr:\n",
    "    result = pickle.load(fr)\n",
    "\n",
    "result"
   ]
  },
  {
   "cell_type": "code",
   "execution_count": 26,
   "metadata": {},
   "outputs": [
    {
     "data": {
      "text/plain": [
       "dict_keys(['train_loss_list', 'train_acc_list', 'test_acc_list'])"
      ]
     },
     "execution_count": 26,
     "metadata": {},
     "output_type": "execute_result"
    }
   ],
   "source": [
    " result[\"sgd\"][1].keys()"
   ]
  },
  {
   "cell_type": "code",
   "execution_count": 33,
   "metadata": {},
   "outputs": [
    {
     "name": "stdout",
     "output_type": "stream",
     "text": [
      "(60000, 784) (60000, 10) (10000, 784) (10000, 10)\n",
      "repeat 5 epoch\n",
      "epoch | train_acc | test_acc\n",
      "epoch 1: 0.7214  |  0.7216\n",
      "epoch 2: 0.9239  |  0.9238\n",
      "epoch 3: 0.8944  |  0.8901\n",
      "epoch 4: 0.9299  |  0.9267\n",
      "===================\n",
      "epoch 4: 0.9477  |  0.9410\n",
      "repeat 5 epoch\n",
      "epoch | train_acc | test_acc\n",
      "epoch 1: 0.4762  |  0.4778\n",
      "epoch 2: 0.9051  |  0.9081\n",
      "epoch 3: 0.9257  |  0.9237\n",
      "epoch 4: 0.9420  |  0.9399\n",
      "===================\n",
      "epoch 4: 0.9466  |  0.9442\n",
      "repeat 5 epoch\n",
      "epoch | train_acc | test_acc\n",
      "epoch 1: 0.8656  |  0.8703\n",
      "epoch 2: 0.9146  |  0.9163\n",
      "epoch 3: 0.9321  |  0.9271\n",
      "epoch 4: 0.9445  |  0.9399\n",
      "===================\n",
      "epoch 4: 0.9494  |  0.9364\n"
     ]
    }
   ],
   "source": [
    "(x_train, t_train), (x_test, t_test) = load_mnist(normalize=True, one_hot_label=True)\n",
    "\n",
    "print(x_train.shape, t_train.shape, x_test.shape, t_test.shape)\n",
    "\n",
    "x_data = np.append(x_train, x_test, axis=0)\n",
    "t_data = np.append(t_train, t_test, axis=0)\n",
    "\n",
    "result = {}\n",
    "\n",
    "\n",
    "net = MultiLayerNet()\n",
    "net.add_layer(Layer.Dense(50, input_size = 784, activation = Layer.Relu(), initializer=Initializer.He() ))\n",
    "net.add_layer(Layer.Dense(50, activation = Layer.Relu(), initializer=Initializer.He() ))\n",
    "net.add_layer(Layer.Dense(10,  activation = Layer.SoftmaxWithLoss() ))\n",
    "\n",
    "train_result = net.train(\n",
    "        x_train, t_train, x_test, t_test, batch_size = 300, iters_num = 1000, print_epoch = 1,\n",
    "        optimizer = Optimizer.SGD(lr=1) )\n",
    "\n",
    "result[\"He\"] = train_result\n",
    "\n",
    "\n",
    "net = MultiLayerNet()\n",
    "net.add_layer(Layer.Dense(50, input_size = 784, activation = Layer.Relu(), ))\n",
    "net.add_layer(Layer.Dense(50, activation = Layer.Relu(), ))\n",
    "net.add_layer(Layer.Dense(10,  activation = Layer.SoftmaxWithLoss() ))\n",
    "\n",
    "train_result = net.train(\n",
    "        x_train, t_train, x_test, t_test, batch_size = 300, iters_num = 1000, print_epoch = 1,\n",
    "        optimizer = Optimizer.SGD(lr=1) )\n",
    "\n",
    "result[\"std=0.01\"] = train_result\n",
    "\n",
    "\n",
    "\n",
    "net = MultiLayerNet()\n",
    "net.add_layer(Layer.Dense(50, input_size = 784, activation = Layer.Relu(), initializer=Initializer.Std(std=0.5)))\n",
    "net.add_layer(Layer.Dense(50, activation = Layer.Relu(), ))\n",
    "net.add_layer(Layer.Dense(10,  activation = Layer.SoftmaxWithLoss() ))\n",
    "\n",
    "train_result = net.train(\n",
    "        x_train, t_train, x_test, t_test, batch_size = 300, iters_num = 1000, print_epoch = 1,\n",
    "        optimizer = Optimizer.SGD(lr=1) )\n",
    "\n",
    "result[\"std=0.5\"] = train_result\n"
   ]
  },
  {
   "cell_type": "code",
   "execution_count": 35,
   "metadata": {},
   "outputs": [
    {
     "data": {
      "image/png": "[encoded data removed]",
      "text/plain": [
       "<Figure size 792x648 with 1 Axes>"
      ]
     },
     "metadata": {
      "needs_background": "light"
     },
     "output_type": "display_data"
    }
   ],
   "source": [
    "color_list = [\"red\", \"blue\", \"green\", \"yellow\", \"purple\"]\n",
    "\n",
    "marker_list = [\"o\", \"s\", \"^\", \"v\",\"x\" ]\n",
    "\n",
    "plt.figure(figsize=(11, 9))\n",
    "\n",
    "\n",
    "plt.xlabel(\"step\")\n",
    "plt.ylabel(\"loss\")\n",
    "# plt.ylim(0, 3)\n",
    "\n",
    "\n",
    "\n",
    "\n",
    "x = np.arange(len(result[\"std=0.01\"][\"train_loss_list\"]))\n",
    "\n",
    "plt.plot(x, result[\"std=0.01\"][\"train_loss_list\"], label=\"std=0.01\",color = color_list[0],  marker=None)\n",
    "plt.plot(x, result[\"std=0.5\"][\"train_loss_list\"], label=\"std=0.5\",color = color_list[1],  marker=None)\n",
    "plt.plot(x, result[\"He\"][\"train_loss_list\"], label=\"He\",color = color_list[2],  marker=None)\n",
    "\n",
    "plt.legend(loc='upper right')\n",
    "\n",
    "plt.show()\n"
   ]
  },
  {
   "cell_type": "markdown",
   "metadata": {},
   "source": [
    "## "
   ]
  }
 ],
 "metadata": {
  "kernelspec": {
   "display_name": "Python 3",
   "language": "python",
   "name": "python3"
  },
  "language_info": {
   "codemirror_mode": {
    "name": "ipython",
    "version": 3
   },
   "file_extension": ".py",
   "mimetype": "text/x-python",
   "name": "python",
   "nbconvert_exporter": "python",
   "pygments_lexer": "ipython3",
   "version": "3.7.3"
  },
  "pycharm": {
   "stem_cell": {
    "cell_type": "raw",
    "metadata": {
     "collapsed": false
    },
    "source": []
   }
  }
 },
 "nbformat": 4,
 "nbformat_minor": 2
}
